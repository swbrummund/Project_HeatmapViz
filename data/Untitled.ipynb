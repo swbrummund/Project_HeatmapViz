{
 "cells": [
  {
   "cell_type": "code",
   "execution_count": 1,
   "metadata": {},
   "outputs": [],
   "source": [
    "import json\n",
    "import pandas as pd\n"
   ]
  },
  {
   "cell_type": "code",
   "execution_count": 5,
   "metadata": {},
   "outputs": [
    {
     "data": {
      "text/html": [
       "<div>\n",
       "<style scoped>\n",
       "    .dataframe tbody tr th:only-of-type {\n",
       "        vertical-align: middle;\n",
       "    }\n",
       "\n",
       "    .dataframe tbody tr th {\n",
       "        vertical-align: top;\n",
       "    }\n",
       "\n",
       "    .dataframe thead th {\n",
       "        text-align: right;\n",
       "    }\n",
       "</style>\n",
       "<table border=\"1\" class=\"dataframe\">\n",
       "  <thead>\n",
       "    <tr style=\"text-align: right;\">\n",
       "      <th></th>\n",
       "      <th>index</th>\n",
       "      <th>0</th>\n",
       "    </tr>\n",
       "  </thead>\n",
       "  <tbody>\n",
       "    <tr>\n",
       "      <th>0</th>\n",
       "      <td>type</td>\n",
       "      <td>FeatureCollection</td>\n",
       "    </tr>\n",
       "    <tr>\n",
       "      <th>1</th>\n",
       "      <td>features</td>\n",
       "      <td>[{'type': 'Feature', 'id': '01', 'properties':...</td>\n",
       "    </tr>\n",
       "  </tbody>\n",
       "</table>\n",
       "</div>"
      ],
      "text/plain": [
       "      index                                                  0\n",
       "0      type                                  FeatureCollection\n",
       "1  features  [{'type': 'Feature', 'id': '01', 'properties':..."
      ]
     },
     "execution_count": 5,
     "metadata": {},
     "output_type": "execute_result"
    }
   ],
   "source": [
    "json_file = \"states_data.json\"\n",
    "with open(json_file) as train_file:\n",
    "    dict_train = json.load(train_file)\n",
    "\n",
    "train = pd.DataFrame.from_dict(dict_train, orient='index')\n",
    "train.reset_index(level=0, inplace=True)\n",
    "train\n"
   ]
  },
  {
   "cell_type": "code",
   "execution_count": 4,
   "metadata": {},
   "outputs": [],
   "source": [
    "pop_file = \"pop-by-zip-code.csv\"\n",
    "inc_file = \"Median_income.csv\"\n",
    "temp_file = \"state-weather-data.csv\"\n",
    "\n",
    "pop_data = pd.read_csv(pop_file)\n",
    "inc_data = pd.read_csv(inc_file)\n",
    "temp_data = pd.read_csv(temp_file)\n"
   ]
  },
  {
   "cell_type": "code",
   "execution_count": 5,
   "metadata": {},
   "outputs": [
    {
     "data": {
      "text/html": [
       "<div>\n",
       "<style scoped>\n",
       "    .dataframe tbody tr th:only-of-type {\n",
       "        vertical-align: middle;\n",
       "    }\n",
       "\n",
       "    .dataframe tbody tr th {\n",
       "        vertical-align: top;\n",
       "    }\n",
       "\n",
       "    .dataframe thead th {\n",
       "        text-align: right;\n",
       "    }\n",
       "</style>\n",
       "<table border=\"1\" class=\"dataframe\">\n",
       "  <thead>\n",
       "    <tr style=\"text-align: right;\">\n",
       "      <th></th>\n",
       "      <th>zip_code</th>\n",
       "      <th>y-2016</th>\n",
       "      <th>y-2015</th>\n",
       "      <th>y-2014</th>\n",
       "      <th>y-2013</th>\n",
       "      <th>y-2012</th>\n",
       "      <th>y-2011</th>\n",
       "      <th>y-2010</th>\n",
       "      <th>aggregate</th>\n",
       "    </tr>\n",
       "  </thead>\n",
       "  <tbody>\n",
       "    <tr>\n",
       "      <th>0</th>\n",
       "      <td>601</td>\n",
       "      <td>17800</td>\n",
       "      <td>17982</td>\n",
       "      <td>18088</td>\n",
       "      <td>18450</td>\n",
       "      <td>18544</td>\n",
       "      <td>18533</td>\n",
       "      <td>18570</td>\n",
       "      <td>127967</td>\n",
       "    </tr>\n",
       "    <tr>\n",
       "      <th>1</th>\n",
       "      <td>602</td>\n",
       "      <td>39716</td>\n",
       "      <td>40260</td>\n",
       "      <td>40859</td>\n",
       "      <td>41302</td>\n",
       "      <td>41640</td>\n",
       "      <td>41930</td>\n",
       "      <td>41520</td>\n",
       "      <td>287227</td>\n",
       "    </tr>\n",
       "    <tr>\n",
       "      <th>2</th>\n",
       "      <td>603</td>\n",
       "      <td>51565</td>\n",
       "      <td>52408</td>\n",
       "      <td>53162</td>\n",
       "      <td>53683</td>\n",
       "      <td>54540</td>\n",
       "      <td>54475</td>\n",
       "      <td>54689</td>\n",
       "      <td>374522</td>\n",
       "    </tr>\n",
       "    <tr>\n",
       "      <th>3</th>\n",
       "      <td>606</td>\n",
       "      <td>6320</td>\n",
       "      <td>6331</td>\n",
       "      <td>6415</td>\n",
       "      <td>6591</td>\n",
       "      <td>6593</td>\n",
       "      <td>6386</td>\n",
       "      <td>6615</td>\n",
       "      <td>45251</td>\n",
       "    </tr>\n",
       "    <tr>\n",
       "      <th>4</th>\n",
       "      <td>610</td>\n",
       "      <td>27976</td>\n",
       "      <td>28328</td>\n",
       "      <td>28805</td>\n",
       "      <td>28963</td>\n",
       "      <td>29141</td>\n",
       "      <td>29111</td>\n",
       "      <td>29016</td>\n",
       "      <td>201340</td>\n",
       "    </tr>\n",
       "  </tbody>\n",
       "</table>\n",
       "</div>"
      ],
      "text/plain": [
       "   zip_code  y-2016  y-2015  y-2014  y-2013  y-2012  y-2011  y-2010  aggregate\n",
       "0       601   17800   17982   18088   18450   18544   18533   18570     127967\n",
       "1       602   39716   40260   40859   41302   41640   41930   41520     287227\n",
       "2       603   51565   52408   53162   53683   54540   54475   54689     374522\n",
       "3       606    6320    6331    6415    6591    6593    6386    6615      45251\n",
       "4       610   27976   28328   28805   28963   29141   29111   29016     201340"
      ]
     },
     "execution_count": 5,
     "metadata": {},
     "output_type": "execute_result"
    }
   ],
   "source": [
    "pop_data.head()"
   ]
  },
  {
   "cell_type": "code",
   "execution_count": 6,
   "metadata": {},
   "outputs": [
    {
     "data": {
      "text/html": [
       "<div>\n",
       "<style scoped>\n",
       "    .dataframe tbody tr th:only-of-type {\n",
       "        vertical-align: middle;\n",
       "    }\n",
       "\n",
       "    .dataframe tbody tr th {\n",
       "        vertical-align: top;\n",
       "    }\n",
       "\n",
       "    .dataframe thead th {\n",
       "        text-align: right;\n",
       "    }\n",
       "</style>\n",
       "<table border=\"1\" class=\"dataframe\">\n",
       "  <thead>\n",
       "    <tr style=\"text-align: right;\">\n",
       "      <th></th>\n",
       "      <th>Table with row headers in column A and column headers in rows 5 and 6, and 60 and 61</th>\n",
       "      <th>Unnamed: 1</th>\n",
       "      <th>Unnamed: 2</th>\n",
       "    </tr>\n",
       "  </thead>\n",
       "  <tbody>\n",
       "    <tr>\n",
       "      <th>0</th>\n",
       "      <td>State</td>\n",
       "      <td>2015</td>\n",
       "      <td>NaN</td>\n",
       "    </tr>\n",
       "    <tr>\n",
       "      <th>1</th>\n",
       "      <td>NaN</td>\n",
       "      <td>Median\\nincome</td>\n",
       "      <td>Standard\\nerror</td>\n",
       "    </tr>\n",
       "    <tr>\n",
       "      <th>2</th>\n",
       "      <td>United States</td>\n",
       "      <td>56,516</td>\n",
       "      <td>321</td>\n",
       "    </tr>\n",
       "    <tr>\n",
       "      <th>3</th>\n",
       "      <td>Alabama</td>\n",
       "      <td>44,509</td>\n",
       "      <td>3,419</td>\n",
       "    </tr>\n",
       "    <tr>\n",
       "      <th>4</th>\n",
       "      <td>Alaska</td>\n",
       "      <td>75,112</td>\n",
       "      <td>3,485</td>\n",
       "    </tr>\n",
       "  </tbody>\n",
       "</table>\n",
       "</div>"
      ],
      "text/plain": [
       "  Table with row headers in column A and column headers in rows 5 and 6, and 60 and 61  \\\n",
       "0                                              State                                     \n",
       "1                                                NaN                                     \n",
       "2                                      United States                                     \n",
       "3                                            Alabama                                     \n",
       "4                                             Alaska                                     \n",
       "\n",
       "       Unnamed: 1       Unnamed: 2  \n",
       "0            2015              NaN  \n",
       "1  Median\\nincome  Standard\\nerror  \n",
       "2          56,516              321  \n",
       "3          44,509            3,419  \n",
       "4          75,112            3,485  "
      ]
     },
     "execution_count": 6,
     "metadata": {},
     "output_type": "execute_result"
    }
   ],
   "source": [
    "inc_data.head()"
   ]
  },
  {
   "cell_type": "code",
   "execution_count": 7,
   "metadata": {},
   "outputs": [
    {
     "data": {
      "text/html": [
       "<div>\n",
       "<style scoped>\n",
       "    .dataframe tbody tr th:only-of-type {\n",
       "        vertical-align: middle;\n",
       "    }\n",
       "\n",
       "    .dataframe tbody tr th {\n",
       "        vertical-align: top;\n",
       "    }\n",
       "\n",
       "    .dataframe thead th {\n",
       "        text-align: right;\n",
       "    }\n",
       "</style>\n",
       "<table border=\"1\" class=\"dataframe\">\n",
       "  <thead>\n",
       "    <tr style=\"text-align: right;\">\n",
       "      <th></th>\n",
       "      <th>statename</th>\n",
       "      <th>latitude</th>\n",
       "      <th>longitude</th>\n",
       "      <th>min</th>\n",
       "      <th>max</th>\n",
       "      <th>avg</th>\n",
       "    </tr>\n",
       "  </thead>\n",
       "  <tbody>\n",
       "    <tr>\n",
       "      <th>0</th>\n",
       "      <td>Alabama</td>\n",
       "      <td>32.9572</td>\n",
       "      <td>-87.1706</td>\n",
       "      <td>55.066541</td>\n",
       "      <td>75.862199</td>\n",
       "      <td>64.671307</td>\n",
       "    </tr>\n",
       "    <tr>\n",
       "      <th>1</th>\n",
       "      <td>Alaska</td>\n",
       "      <td>60.0433</td>\n",
       "      <td>-151.6655</td>\n",
       "      <td>25.085441</td>\n",
       "      <td>41.064363</td>\n",
       "      <td>33.105335</td>\n",
       "    </tr>\n",
       "    <tr>\n",
       "      <th>2</th>\n",
       "      <td>Arizona</td>\n",
       "      <td>35.0336</td>\n",
       "      <td>-113.8925</td>\n",
       "      <td>43.685663</td>\n",
       "      <td>67.698049</td>\n",
       "      <td>55.058667</td>\n",
       "    </tr>\n",
       "    <tr>\n",
       "      <th>3</th>\n",
       "      <td>Arkansas</td>\n",
       "      <td>34.6242</td>\n",
       "      <td>-93.8061</td>\n",
       "      <td>50.038002</td>\n",
       "      <td>70.851611</td>\n",
       "      <td>59.955121</td>\n",
       "    </tr>\n",
       "    <tr>\n",
       "      <th>4</th>\n",
       "      <td>California</td>\n",
       "      <td>41.7417</td>\n",
       "      <td>-121.5383</td>\n",
       "      <td>46.473216</td>\n",
       "      <td>69.615316</td>\n",
       "      <td>57.093592</td>\n",
       "    </tr>\n",
       "  </tbody>\n",
       "</table>\n",
       "</div>"
      ],
      "text/plain": [
       "    statename  latitude  longitude        min        max        avg\n",
       "0     Alabama   32.9572   -87.1706  55.066541  75.862199  64.671307\n",
       "1      Alaska   60.0433  -151.6655  25.085441  41.064363  33.105335\n",
       "2     Arizona   35.0336  -113.8925  43.685663  67.698049  55.058667\n",
       "3    Arkansas   34.6242   -93.8061  50.038002  70.851611  59.955121\n",
       "4  California   41.7417  -121.5383  46.473216  69.615316  57.093592"
      ]
     },
     "execution_count": 7,
     "metadata": {},
     "output_type": "execute_result"
    }
   ],
   "source": [
    "temp_data.head()"
   ]
  },
  {
   "cell_type": "code",
   "execution_count": 9,
   "metadata": {},
   "outputs": [
    {
     "data": {
      "text/plain": [
       "33120"
      ]
     },
     "execution_count": 9,
     "metadata": {},
     "output_type": "execute_result"
    }
   ],
   "source": [
    "len(pop_data[\"zip_code\"])"
   ]
  },
  {
   "cell_type": "code",
   "execution_count": null,
   "metadata": {},
   "outputs": [],
   "source": []
  }
 ],
 "metadata": {
  "kernelspec": {
   "display_name": "Python [conda env:pandas] *",
   "language": "python",
   "name": "conda-env-pandas-py"
  },
  "language_info": {
   "codemirror_mode": {
    "name": "ipython",
    "version": 3
   },
   "file_extension": ".py",
   "mimetype": "text/x-python",
   "name": "python",
   "nbconvert_exporter": "python",
   "pygments_lexer": "ipython3",
   "version": "3.6.9"
  }
 },
 "nbformat": 4,
 "nbformat_minor": 2
}
