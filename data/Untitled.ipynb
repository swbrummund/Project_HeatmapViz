{
 "cells": [
  {
   "cell_type": "code",
   "execution_count": 9,
   "metadata": {},
   "outputs": [
    {
     "data": {
      "text/plain": [
       "{'type': 'Feature',\n",
       " 'id': '01',\n",
       " 'properties': {'name': 'Alabama',\n",
       "  'avgtemp': 64.67,\n",
       "  'median_income': 44509,\n",
       "  'population': 4858979},\n",
       " 'geometry': {'type': 'Polygon',\n",
       "  'coordinates': [[[-87.359296, 35.00118],\n",
       "    [-85.606675, 34.984749],\n",
       "    [-85.431413, 34.124869],\n",
       "    [-85.184951, 32.859696],\n",
       "    [-85.069935, 32.580372],\n",
       "    [-84.960397, 32.421541],\n",
       "    [-85.004212, 32.322956],\n",
       "    [-84.889196, 32.262709],\n",
       "    [-85.058981, 32.13674],\n",
       "    [-85.053504, 32.01077],\n",
       "    [-85.141136, 31.840985],\n",
       "    [-85.042551, 31.539753],\n",
       "    [-85.113751, 31.27686],\n",
       "    [-85.004212, 31.003013],\n",
       "    [-85.497137, 30.997536],\n",
       "    [-87.60028199999999, 30.997536],\n",
       "    [-87.633143, 30.86609],\n",
       "    [-87.408589, 30.674397],\n",
       "    [-87.446927, 30.510088],\n",
       "    [-87.37025, 30.427934],\n",
       "    [-87.518128, 30.280057],\n",
       "    [-87.655051, 30.247195],\n",
       "    [-87.90699, 30.411504],\n",
       "    [-87.934375, 30.657966],\n",
       "    [-88.011052, 30.685351],\n",
       "    [-88.10416, 30.499135],\n",
       "    [-88.137022, 30.318396],\n",
       "    [-88.394438, 30.367688],\n",
       "    [-88.471115, 31.895754],\n",
       "    [-88.241084, 33.796253],\n",
       "    [-88.098683, 34.891641],\n",
       "    [-88.202745, 34.995703],\n",
       "    [-87.359296, 35.00118]]]}}"
      ]
     },
     "execution_count": 9,
     "metadata": {},
     "output_type": "execute_result"
    }
   ],
   "source": [
    "import json\n",
    "import pandas as pd\n",
    "json = pd.read_json(\"states_data.json\")\n",
    "json['features'][0]"
   ]
  },
  {
   "cell_type": "code",
   "execution_count": null,
   "metadata": {},
   "outputs": [],
   "source": []
  }
 ],
 "metadata": {
  "kernelspec": {
   "display_name": "Python [conda env:pandas] *",
   "language": "python",
   "name": "conda-env-pandas-py"
  },
  "language_info": {
   "codemirror_mode": {
    "name": "ipython",
    "version": 3
   },
   "file_extension": ".py",
   "mimetype": "text/x-python",
   "name": "python",
   "nbconvert_exporter": "python",
   "pygments_lexer": "ipython3",
   "version": "3.6.9"
  }
 },
 "nbformat": 4,
 "nbformat_minor": 2
}
